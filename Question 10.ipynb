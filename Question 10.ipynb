{
  "nbformat": 4,
  "nbformat_minor": 0,
  "metadata": {
    "colab": {
      "provenance": []
    },
    "kernelspec": {
      "name": "python3",
      "display_name": "Python 3"
    },
    "language_info": {
      "name": "python"
    }
  },
  "cells": [
    {
      "cell_type": "code",
      "execution_count": 1,
      "metadata": {
        "colab": {
          "base_uri": "https://localhost:8080/"
        },
        "id": "B8cNu0QDzCpV",
        "outputId": "a3fdd402-ff84-4ffc-93aa-4adff73b820a"
      },
      "outputs": [
        {
          "output_type": "stream",
          "name": "stdout",
          "text": [
            "Enter the value of variable A: 25\n",
            "Enter the value of variable B: 35\n",
            "Before interchange:\n",
            "A = 25\n",
            "B = 35\n",
            "After interchange:\n",
            "A = 35\n",
            "B = 25\n"
          ]
        }
      ],
      "source": [
        "# Interchange the values of two variables\n",
        "\n",
        "A = int(input(\"Enter the value of variable A: \"))\n",
        "B = int(input(\"Enter the value of variable B: \"))\n",
        "\n",
        "print(\"Before interchange:\")\n",
        "print(\"A =\", A)\n",
        "print(\"B =\", B)\n",
        "\n",
        "temp = A\n",
        "A = B\n",
        "B = temp\n",
        "\n",
        "print(\"After interchange:\")\n",
        "print(\"A =\", A)\n",
        "print(\"B =\", B)"
      ]
    }
  ]
}